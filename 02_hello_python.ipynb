{
 "cells": [
  {
   "cell_type": "code",
   "execution_count": 3,
   "metadata": {},
   "outputs": [
    {
     "name": "stdout",
     "output_type": "stream",
     "text": [
      "True\n",
      "1 True\n",
      "2 False\n",
      "3 False\n",
      "4 True\n",
      "5 True\n",
      "6 False\n",
      "1 True\n",
      "2 False\n",
      "3 True\n",
      "4 False\n",
      "5 False\n",
      "6 True\n"
     ]
    }
   ],
   "source": [
    "mybool = True\n",
    "print(mybool)\n",
    "\n",
    "'''\n",
    "比較運算子\n",
    "== 等於\n",
    "!= 不等於 \n",
    "> 大於\n",
    "< 小於\n",
    ">= 大於等於\n",
    "<= 小於等於\n",
    "'''\n",
    "\n",
    "print('1',8 == 8)\n",
    "print('2',8 != 8)\n",
    "print('3',2 < 0)\n",
    "print('4',2 <= 2)\n",
    "print('5','hello' == 'hello')\n",
    "print('6','hello'== 'Hello')"
   ]
  },
  {
   "cell_type": "code",
   "execution_count": 5,
   "metadata": {},
   "outputs": [
    {
     "name": "stdout",
     "output_type": "stream",
     "text": [
      "1 True\n",
      "2 False\n",
      "3 True\n",
      "4 False\n",
      "5 False\n",
      "6 True\n"
     ]
    },
    {
     "data": {
      "text/plain": [
       "False"
      ]
     },
     "execution_count": 5,
     "metadata": {},
     "output_type": "execute_result"
    }
   ],
   "source": [
    "'''\n",
    "布林運算子\n",
    "and、or、not三個布林運算子是用來比較布林值的，回傳的值也是True或False。\n",
    "\n",
    "and: 兩者都成立才為true\n",
    "or: 其中一個成立就為true\n",
    "not: 反向\n",
    "'''\n",
    "\n",
    "print('1',True and True)\n",
    "print('2',True and False)\n",
    "print('3',True or False)\n",
    "print('4',False or False)\n",
    "print('5',not True)\n",
    "print('6',not False)\n",
    "\n",
    "(4 > 5) and (1 == 1)"
   ]
  },
  {
   "cell_type": "code",
   "execution_count": 6,
   "metadata": {},
   "outputs": [
    {
     "name": "stdout",
     "output_type": "stream",
     "text": [
      "hello apple\n"
     ]
    }
   ],
   "source": [
    "name = 'apple'\n",
    "if name == 'apple':\n",
    "    print('hello apple')\n",
    "else:\n",
    "    print('you are not apple')"
   ]
  },
  {
   "cell_type": "code",
   "execution_count": 7,
   "metadata": {},
   "outputs": [
    {
     "name": "stdout",
     "output_type": "stream",
     "text": [
      "hello apple\n"
     ]
    }
   ],
   "source": [
    "name = 'apple'\n",
    "if name == 'banana':\n",
    "    print('hello banana')\n",
    "elif name == 'apple':\n",
    "    print('hello apple')\n",
    "elif name == 'pinapple':\n",
    "    print('hello pinapple')\n",
    "else:\n",
    "    print('you are not apple')"
   ]
  },
  {
   "cell_type": "code",
   "execution_count": 8,
   "metadata": {},
   "outputs": [
    {
     "name": "stdout",
     "output_type": "stream",
     "text": [
      "0\n",
      "1\n",
      "2\n",
      "3\n",
      "4\n"
     ]
    }
   ],
   "source": [
    "count = 0\n",
    "while count < 5:\n",
    "    print(count)\n",
    "    count = count +1"
   ]
  },
  {
   "cell_type": "code",
   "execution_count": 9,
   "metadata": {},
   "outputs": [
    {
     "name": "stdout",
     "output_type": "stream",
     "text": [
      "0\n"
     ]
    }
   ],
   "source": [
    "count = 0\n",
    "if count < 5:\n",
    "    print(count)\n",
    "    count = count +1"
   ]
  },
  {
   "cell_type": "code",
   "execution_count": 10,
   "metadata": {},
   "outputs": [
    {
     "name": "stdout",
     "output_type": "stream",
     "text": [
      "3\n",
      "4\n"
     ]
    }
   ],
   "source": [
    "for i in range(3,5):\n",
    "    print(i)"
   ]
  },
  {
   "cell_type": "code",
   "execution_count": 11,
   "metadata": {},
   "outputs": [
    {
     "name": "stdout",
     "output_type": "stream",
     "text": [
      "3\n",
      "5\n",
      "7\n"
     ]
    }
   ],
   "source": [
    "for i in range(3,9,2):\n",
    "    print(i)"
   ]
  },
  {
   "cell_type": "code",
   "execution_count": 12,
   "metadata": {},
   "outputs": [
    {
     "name": "stdout",
     "output_type": "stream",
     "text": [
      "Call this function!\n"
     ]
    }
   ],
   "source": [
    "#函式\n",
    "\n",
    "def my_first_func():\n",
    "    print('Call this function!')\n",
    "my_first_func()"
   ]
  },
  {
   "cell_type": "code",
   "execution_count": 15,
   "metadata": {},
   "outputs": [
    {
     "name": "stdout",
     "output_type": "stream",
     "text": [
      "guess a number between 1 and 10\n",
      "guess!\n",
      "6\n",
      "too high\n",
      "guess!\n",
      "5\n",
      "good job!\n"
     ]
    }
   ],
   "source": [
    "#Practice\n",
    "\n",
    "import random\n",
    "scrnum = random.randint(1,10)\n",
    "print('guess a number between 1 and 10')\n",
    "for geuss_num in range(1,7):\n",
    "    print('guess!')\n",
    "    guess = int(input())\n",
    "    if guess < scrnum:\n",
    "        print('too low')\n",
    "    elif guess > scrnum:\n",
    "        print('too high')\n",
    "    else:\n",
    "        print('good job!')\n",
    "        break"
   ]
  }
 ],
 "metadata": {
  "kernelspec": {
   "display_name": "Python 3",
   "language": "python",
   "name": "python3"
  },
  "language_info": {
   "codemirror_mode": {
    "name": "ipython",
    "version": 3
   },
   "file_extension": ".py",
   "mimetype": "text/x-python",
   "name": "python",
   "nbconvert_exporter": "python",
   "pygments_lexer": "ipython3",
   "version": "3.7.0"
  }
 },
 "nbformat": 4,
 "nbformat_minor": 2
}
