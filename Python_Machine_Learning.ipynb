{
 "cells": [
  {
   "cell_type": "code",
   "execution_count": 3,
   "metadata": {},
   "outputs": [
    {
     "name": "stdout",
     "output_type": "stream",
     "text": [
      "This is an apple\n"
     ]
    }
   ],
   "source": [
    "from sklearn import tree\n",
    "\n",
    "#特徵定義： 透過上面的表格我們可以這樣寫\n",
    "features = [[150,1],[170,1],[130,0],[140,0]]\n",
    "\n",
    "#標籤定義：透過上面的表格我們可以這樣寫\n",
    "labels = [0,0,1,1]\n",
    "\n",
    "#DecisionTreeClassifier 建立一個DecisionTreeClassifier二元樹分類：\n",
    "clf = tree.DecisionTreeClassifier()\n",
    "\n",
    "#放入資料到分類模型內：\n",
    "clf = clf.fit(features,labels)\n",
    "\n",
    "#預測：假設我們重量120g表面為平滑是什麼水果\n",
    "wantPredict = clf.predict([[120,0]]) \n",
    "if wantPredict == [1]:\n",
    "    print('This is an apple')\n",
    "elif wantPredict == [0]:\n",
    "    print('This is an orange')"
   ]
  }
 ],
 "metadata": {
  "kernelspec": {
   "display_name": "Python 3",
   "language": "python",
   "name": "python3"
  },
  "language_info": {
   "codemirror_mode": {
    "name": "ipython",
    "version": 3
   },
   "file_extension": ".py",
   "mimetype": "text/x-python",
   "name": "python",
   "nbconvert_exporter": "python",
   "pygments_lexer": "ipython3",
   "version": "3.7.0"
  }
 },
 "nbformat": 4,
 "nbformat_minor": 2
}
