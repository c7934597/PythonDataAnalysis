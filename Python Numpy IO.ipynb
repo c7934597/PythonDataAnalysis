{
 "cells": [
  {
   "cell_type": "code",
   "execution_count": 3,
   "metadata": {},
   "outputs": [],
   "source": [
    "import numpy as np\n",
    "x = np.arange(10)\n",
    "\n",
    "#save() 回Jupyter目錄看看是否有多出一個my_array.npy的檔案\n",
    "np.save('my_array', x)"
   ]
  },
  {
   "cell_type": "code",
   "execution_count": 8,
   "metadata": {},
   "outputs": [
    {
     "data": {
      "text/plain": [
       "array([0, 1, 2, 3, 4, 5, 6, 7, 8, 9])"
      ]
     },
     "execution_count": 8,
     "metadata": {},
     "output_type": "execute_result"
    }
   ],
   "source": [
    "# load() 接下來我們將剛剛儲存的資料載入\n",
    "\n",
    "np.load('my_array.npy')"
   ]
  },
  {
   "cell_type": "code",
   "execution_count": 9,
   "metadata": {},
   "outputs": [],
   "source": [
    "# savez() 我們可以儲存多個陣列在一個zip的檔案中，使用np.savez就可以\n",
    "\n",
    "aData = [1,2,3,4,5,6]\n",
    "bData = [7,8,9,10,11,12]\n",
    "\n",
    "np.savez('my_archive.npz', a=aData, b=bData)"
   ]
  },
  {
   "cell_type": "code",
   "execution_count": 10,
   "metadata": {},
   "outputs": [
    {
     "data": {
      "text/plain": [
       "array([ 7,  8,  9, 10, 11, 12])"
      ]
     },
     "execution_count": 10,
     "metadata": {},
     "output_type": "execute_result"
    }
   ],
   "source": [
    "myArch = np.load('my_archive.npz')\n",
    "myArch['b']"
   ]
  },
  {
   "cell_type": "code",
   "execution_count": 11,
   "metadata": {},
   "outputs": [
    {
     "data": {
      "text/plain": [
       "array([1, 2, 3, 4, 5, 6])"
      ]
     },
     "execution_count": 11,
     "metadata": {},
     "output_type": "execute_result"
    }
   ],
   "source": [
    "myArch['a']"
   ]
  },
  {
   "cell_type": "code",
   "execution_count": 21,
   "metadata": {},
   "outputs": [
    {
     "name": "stdout",
     "output_type": "stream",
     "text": [
      "-0.8195512,0.27937994,1.27931271,-0.14165034\n",
      "-1.11670904,0.97610903,0.53164771,0.98075849\n",
      "-1.74532131,0.21773677,0.16691129,0.503587\n",
      "-0.50914402,-1.02003606,0.51915387,0.52414817\n",
      "-0.42536413,0.00532883,-0.10769916,-1.35268212\n"
     ]
    }
   ],
   "source": [
    "'''\n",
    "Jupyter內可以用!cat查看內容（跟在終端機的cat一樣）\n",
    "cat不行就改用more或type\n",
    "'''\n",
    "\n",
    "#!more my_txt.txt\n",
    "#!cat my_txt.txt\n",
    "!type my_txt.txt"
   ]
  },
  {
   "cell_type": "code",
   "execution_count": 25,
   "metadata": {},
   "outputs": [
    {
     "data": {
      "text/plain": [
       "array([[-0.8195512 ,  0.27937994,  1.27931271, -0.14165034],\n",
       "       [-1.11670904,  0.97610903,  0.53164771,  0.98075849],\n",
       "       [-1.74532131,  0.21773677,  0.16691129,  0.503587  ],\n",
       "       [-0.50914402, -1.02003606,  0.51915387,  0.52414817],\n",
       "       [-0.42536413,  0.00532883, -0.10769916, -1.35268212]])"
      ]
     },
     "execution_count": 25,
     "metadata": {},
     "output_type": "execute_result"
    }
   ],
   "source": [
    "#load 在Numpy內會使用.loadtxt或特定的np.genfromtxt來讀取它\n",
    "#我們使用np.loadtxt()，裡面的參數放入txt的檔案，delimiter=','則是設定分隔的符號\n",
    "\n",
    "myArr = np.loadtxt('my_txt.txt', delimiter=',')\n",
    "myArr = np.genfromtxt('my_txt.txt', delimiter=',')\n",
    "myArr"
   ]
  },
  {
   "cell_type": "code",
   "execution_count": 26,
   "metadata": {},
   "outputs": [],
   "source": [
    "#savetxt 要將資料反向存成另外一個txt檔案只需要\n",
    "\n",
    "np.savetxt('txtfile.txt', myArr)"
   ]
  }
 ],
 "metadata": {
  "kernelspec": {
   "display_name": "Python 3",
   "language": "python",
   "name": "python3"
  },
  "language_info": {
   "codemirror_mode": {
    "name": "ipython",
    "version": 3
   },
   "file_extension": ".py",
   "mimetype": "text/x-python",
   "name": "python",
   "nbconvert_exporter": "python",
   "pygments_lexer": "ipython3",
   "version": "3.7.0"
  }
 },
 "nbformat": 4,
 "nbformat_minor": 2
}
