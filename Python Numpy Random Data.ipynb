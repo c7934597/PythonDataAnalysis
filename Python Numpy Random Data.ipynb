{
 "cells": [
  {
   "cell_type": "code",
   "execution_count": 2,
   "metadata": {},
   "outputs": [
    {
     "data": {
      "text/plain": [
       "-0.966750968251307"
      ]
     },
     "execution_count": 2,
     "metadata": {},
     "output_type": "execute_result"
    }
   ],
   "source": [
    "import numpy as np\n",
    "\n",
    "#random.randn()\n",
    "np.random.randn()"
   ]
  },
  {
   "cell_type": "code",
   "execution_count": 3,
   "metadata": {},
   "outputs": [
    {
     "data": {
      "text/plain": [
       "array([[ 1.18049127, -0.01354447,  3.06617264,  3.04985183],\n",
       "       [ 1.26906042,  0.55062918,  2.19944341,  2.69707171]])"
      ]
     },
     "execution_count": 3,
     "metadata": {},
     "output_type": "execute_result"
    }
   ],
   "source": [
    "#建立一了一個2 X 4的矩陣，並且隨機給它數值，最後將它加上1.920929這個數字\n",
    "\n",
    "np.random.randn(2, 4) + 1.920929"
   ]
  },
  {
   "cell_type": "code",
   "execution_count": 5,
   "metadata": {},
   "outputs": [
    {
     "data": {
      "text/plain": [
       "array([1, 1, 0, 0, 0, 2, 3, 2, 0, 2])"
      ]
     },
     "execution_count": 5,
     "metadata": {},
     "output_type": "execute_result"
    }
   ],
   "source": [
    "# .random.randint()\n",
    "# 4>的整數，大小為10\n",
    "\n",
    "np.random.randint(4, size=10)"
   ]
  },
  {
   "cell_type": "code",
   "execution_count": 6,
   "metadata": {},
   "outputs": [
    {
     "data": {
      "text/plain": [
       "array([8, 5, 6, 4, 7, 7, 7, 8, 9, 4])"
      ]
     },
     "execution_count": 6,
     "metadata": {},
     "output_type": "execute_result"
    }
   ],
   "source": [
    "#產生大小為10，從4到小於10（9）的整數\n",
    "\n",
    "np.random.randint(low=4,high=10,size=10)"
   ]
  },
  {
   "cell_type": "code",
   "execution_count": 6,
   "metadata": {},
   "outputs": [
    {
     "data": {
      "text/plain": [
       "array([[-0.8195512 ,  0.27937994,  1.27931271, -0.14165034],\n",
       "       [-1.11670904,  0.97610903,  0.53164771,  0.98075849],\n",
       "       [-1.74532131,  0.21773677,  0.16691129,  0.503587  ],\n",
       "       [-0.50914402, -1.02003606,  0.51915387,  0.52414817],\n",
       "       [-0.42536413,  0.00532883, -0.10769916, -1.35268212]])"
      ]
     },
     "execution_count": 6,
     "metadata": {},
     "output_type": "execute_result"
    }
   ],
   "source": [
    "#.mean() 建立一個5 X 4的隨機資料，並取平均值\n",
    "\n",
    "x = np.random.randn(5, 4)\n",
    "x"
   ]
  },
  {
   "cell_type": "code",
   "execution_count": 7,
   "metadata": {},
   "outputs": [
    {
     "data": {
      "text/plain": [
       "-0.06270417797946418"
      ]
     },
     "execution_count": 7,
     "metadata": {},
     "output_type": "execute_result"
    }
   ],
   "source": [
    "x.mean()"
   ]
  },
  {
   "cell_type": "code",
   "execution_count": 8,
   "metadata": {},
   "outputs": [
    {
     "data": {
      "text/plain": [
       "7.601581750444014"
      ]
     },
     "execution_count": 8,
     "metadata": {},
     "output_type": "execute_result"
    }
   ],
   "source": [
    "# .sum() 建立一個5 X 4的隨機資料，並取總和\n",
    "\n",
    "x = np.random.randn(5, 4)\n",
    "x.sum()"
   ]
  },
  {
   "cell_type": "code",
   "execution_count": 10,
   "metadata": {},
   "outputs": [
    {
     "data": {
      "text/plain": [
       "-2.0399130090604167"
      ]
     },
     "execution_count": 10,
     "metadata": {},
     "output_type": "execute_result"
    }
   ],
   "source": [
    "# .min()&.max() 建立一個5 X 4的隨機資料，並取最大跟最小值\n",
    "\n",
    "xmin = np.random.randn(5, 4)\n",
    "xmin.max()\n",
    "\n",
    "xmax = np.random.randn(5, 4)\n",
    "xmax.min()"
   ]
  },
  {
   "cell_type": "code",
   "execution_count": 11,
   "metadata": {},
   "outputs": [
    {
     "data": {
      "text/plain": [
       "array([ 2,  5,  9, 14, 20, 27], dtype=int32)"
      ]
     },
     "execution_count": 11,
     "metadata": {},
     "output_type": "execute_result"
    }
   ],
   "source": [
    "# .cumsum() 回傳累積的數值：\n",
    "\n",
    "'''\n",
    "第一個index為2 = 2\n",
    "第二個index為2+3 = 5\n",
    "第三個index為2+3+4 = 9\n",
    "第四個index為2+3+4+5 = 14\n",
    "'''\n",
    "\n",
    "x = np.array([[2,3,4], [5,6,7]])\n",
    "np.cumsum(x)"
   ]
  },
  {
   "cell_type": "code",
   "execution_count": 13,
   "metadata": {},
   "outputs": [
    {
     "data": {
      "text/plain": [
       "1.118033988749895"
      ]
     },
     "execution_count": 13,
     "metadata": {},
     "output_type": "execute_result"
    }
   ],
   "source": [
    "# .std() 接下來這個是標準差，統計領域的一定非常熟悉\n",
    "# std = sqrt(mean(abs(x - x.mean())**2))\n",
    "\n",
    "x = np.array([[1, 2], [3, 4]])\n",
    "np.std(x)"
   ]
  }
 ],
 "metadata": {
  "kernelspec": {
   "display_name": "Python 3",
   "language": "python",
   "name": "python3"
  },
  "language_info": {
   "codemirror_mode": {
    "name": "ipython",
    "version": 3
   },
   "file_extension": ".py",
   "mimetype": "text/x-python",
   "name": "python",
   "nbconvert_exporter": "python",
   "pygments_lexer": "ipython3",
   "version": "3.7.0"
  }
 },
 "nbformat": 4,
 "nbformat_minor": 2
}
