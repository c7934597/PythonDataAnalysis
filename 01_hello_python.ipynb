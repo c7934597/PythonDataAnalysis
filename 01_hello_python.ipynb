{
 "cells": [
  {
   "cell_type": "code",
   "execution_count": 2,
   "metadata": {},
   "outputs": [
    {
     "name": "stdout",
     "output_type": "stream",
     "text": [
      "time.struct_time(tm_year=2018, tm_mon=9, tm_mday=26, tm_hour=16, tm_min=22, tm_sec=45, tm_wday=2, tm_yday=269, tm_isdst=0)\n"
     ]
    }
   ],
   "source": [
    "import time\n",
    "print(time.localtime())"
   ]
  },
  {
   "cell_type": "code",
   "execution_count": 2,
   "metadata": {},
   "outputs": [
    {
     "data": {
      "text/plain": [
       "1"
      ]
     },
     "execution_count": 2,
     "metadata": {},
     "output_type": "execute_result"
    }
   ],
   "source": [
    "a = 0\n",
    "b = 1\n",
    "a + b"
   ]
  },
  {
   "cell_type": "markdown",
   "metadata": {},
   "source": [
    "## hello world!"
   ]
  },
  {
   "cell_type": "code",
   "execution_count": 4,
   "metadata": {},
   "outputs": [
    {
     "name": "stdout",
     "output_type": "stream",
     "text": [
      "hellow world\n"
     ]
    }
   ],
   "source": [
    "#註解掉不會執行\n",
    "print('hellow world')\n",
    "\n",
    "'''\n",
    "多行註解\n",
    "多行註解\n",
    "多行註解\n",
    "多行註解\n",
    "'''"
   ]
  },
  {
   "cell_type": "code",
   "execution_count": 1,
   "metadata": {},
   "outputs": [
    {
     "name": "stdout",
     "output_type": "stream",
     "text": [
      "hello world\n",
      "input text: hello world\n"
     ]
    }
   ],
   "source": [
    "user_input = input()\n",
    "print(\"input text:\",user_input)"
   ]
  },
  {
   "cell_type": "code",
   "execution_count": 1,
   "metadata": {},
   "outputs": [
    {
     "name": "stdout",
     "output_type": "stream",
     "text": [
      "10 1111.1 apple\n"
     ]
    }
   ],
   "source": [
    "my_number = 10 \n",
    "my_float = 1111.1 # 浮點數\n",
    "my_name = \"apple\" # 字串\n",
    "print(my_number,my_float,my_name)"
   ]
  },
  {
   "cell_type": "code",
   "execution_count": 4,
   "metadata": {},
   "outputs": [
    {
     "name": "stdout",
     "output_type": "stream",
     "text": [
      "[1, 'string', 3.1, [5, 6, 7]]\n",
      "1\n",
      "['string', 3.1]\n",
      "['string', 3.1, [5, 6, 7]]\n"
     ]
    }
   ],
   "source": [
    "list_data = [1,'string',3.1,[5,6,7]]\n",
    "print (list_data)               # 輸出完整的list\n",
    "print (list_data[0])            # 輸出第一個元素\n",
    "print (list_data[1:3])          # 輸出第二個到第三個個元素 \n",
    "print (list_data[1:])           # 輸出第二個到最後一個元素"
   ]
  },
  {
   "cell_type": "code",
   "execution_count": 5,
   "metadata": {},
   "outputs": [
    {
     "name": "stdout",
     "output_type": "stream",
     "text": [
      "10\n"
     ]
    }
   ],
   "source": [
    "list_data = [1,'string',3.1,[5,6,7],[8,9,10]]\n",
    "print(list_data[4][2])"
   ]
  },
  {
   "cell_type": "code",
   "execution_count": 1,
   "metadata": {},
   "outputs": [
    {
     "name": "stdout",
     "output_type": "stream",
     "text": [
      "1\n"
     ]
    }
   ],
   "source": [
    "'''\n",
    "List中的index()方法\n",
    "在list中有一個index()的方法，若搜尋的值存在在list中，就會返回索引位置給我們。\n",
    "'''\n",
    "\n",
    "list_data = [1,'string',3.1,[5,6,7],[8,9,10]]\n",
    "index = list_data.index('string')\n",
    "print(index)"
   ]
  },
  {
   "cell_type": "code",
   "execution_count": 2,
   "metadata": {},
   "outputs": [
    {
     "name": "stdout",
     "output_type": "stream",
     "text": [
      "['cat', 'dog', 'bird', 'mouse']\n"
     ]
    }
   ],
   "source": [
    "'''\n",
    "Append()和Insert()方法\n",
    "想要在list中加入新的值可以使用append()和insert()\n",
    "'''\n",
    "\n",
    "mylist = ['cat','dog','bird']\n",
    "mylist.append('mouse')\n",
    "print(mylist)"
   ]
  },
  {
   "cell_type": "code",
   "execution_count": 3,
   "metadata": {},
   "outputs": [
    {
     "name": "stdout",
     "output_type": "stream",
     "text": [
      "['cat', 'mouse', 'dog', 'bird']\n"
     ]
    }
   ],
   "source": [
    "#append()會將新加入的值放在最後一個，insert()中前面的值是所要插入的索引位\n",
    "\n",
    "mylist2 = ['cat','dog','bird']\n",
    "mylist2.insert(1,'mouse')\n",
    "print(mylist2)"
   ]
  },
  {
   "cell_type": "code",
   "execution_count": 4,
   "metadata": {},
   "outputs": [
    {
     "name": "stdout",
     "output_type": "stream",
     "text": [
      "['dog', 'bird']\n"
     ]
    }
   ],
   "source": [
    "#使用remove()可以做資料的刪除：\n",
    "\n",
    "mylist3 = ['cat','dog','bird']\n",
    "mylist3.remove('cat')\n",
    "print(mylist3)"
   ]
  },
  {
   "cell_type": "code",
   "execution_count": 4,
   "metadata": {},
   "outputs": [
    {
     "data": {
      "text/plain": [
       "['bird', 'cat', 'dog']"
      ]
     },
     "execution_count": 4,
     "metadata": {},
     "output_type": "execute_result"
    }
   ],
   "source": [
    "#Sort()方法進行排序\n",
    "\n",
    "mylist4 = ['cat','dog','bird']\n",
    "mylist4.sort()\n",
    "mylist4"
   ]
  },
  {
   "cell_type": "code",
   "execution_count": 3,
   "metadata": {},
   "outputs": [
    {
     "data": {
      "text/plain": [
       "[3, 3, 5, 6, 8, 9]"
      ]
     },
     "execution_count": 3,
     "metadata": {},
     "output_type": "execute_result"
    }
   ],
   "source": [
    "#或是數字排序：\n",
    "\n",
    "mylist5 = [3,5,6,3,8,9]\n",
    "mylist5.sort()\n",
    "mylist5"
   ]
  },
  {
   "cell_type": "code",
   "execution_count": 7,
   "metadata": {},
   "outputs": [
    {
     "data": {
      "text/plain": [
       "8"
      ]
     },
     "execution_count": 7,
     "metadata": {},
     "output_type": "execute_result"
    }
   ],
   "source": [
    "'''\n",
    "Python Dictionary字典\n",
    "dictionary是python內最靈活的數據類型，它不像list有順序，字典是通過關鍵字來存取資料，和list用[]來包資料不同，dictionary是用{}。\n",
    "'''\n",
    "\n",
    "my_dic =  {\n",
    "'name': 'apple','country':'taiwan', 'luckynumber': 8\n",
    "}\n",
    "\n",
    "my_dic['country'] \n",
    "my_dic['name']\n",
    "my_dic['luckynumber']"
   ]
  },
  {
   "cell_type": "code",
   "execution_count": 8,
   "metadata": {},
   "outputs": [
    {
     "data": {
      "text/plain": [
       "dict_keys(['name', 'country', 'luckynumber'])"
      ]
     },
     "execution_count": 8,
     "metadata": {},
     "output_type": "execute_result"
    }
   ],
   "source": [
    "'''\n",
    "列出關鍵字\n",
    "要列出關鍵字可以用.key()\n",
    "'''\n",
    "\n",
    "my_dic.keys()"
   ]
  },
  {
   "cell_type": "code",
   "execution_count": 9,
   "metadata": {},
   "outputs": [
    {
     "data": {
      "text/plain": [
       "dict_values(['apple', 'taiwan', 8])"
      ]
     },
     "execution_count": 9,
     "metadata": {},
     "output_type": "execute_result"
    }
   ],
   "source": [
    "'''\n",
    "列出內容（數值）\n",
    "要列出value可以用.values()\n",
    "'''\n",
    "\n",
    "my_dic.values()"
   ]
  },
  {
   "cell_type": "code",
   "execution_count": 10,
   "metadata": {},
   "outputs": [
    {
     "name": "stdout",
     "output_type": "stream",
     "text": [
      "8 Is my lucky number\n"
     ]
    }
   ],
   "source": [
    "'''\n",
    "數值轉換\n",
    "str( ) 函式\n",
    "若想連接整數和字串則需要先將整數轉成字串才行！\n",
    "'''\n",
    "\n",
    "a = 8\n",
    "s_str = str(a)\n",
    "print(s_str+' Is my lucky number')"
   ]
  },
  {
   "cell_type": "code",
   "execution_count": 11,
   "metadata": {},
   "outputs": [
    {
     "name": "stdout",
     "output_type": "stream",
     "text": [
      "3\n",
      "3\n"
     ]
    }
   ],
   "source": [
    "'''\n",
    "int()函式\n",
    "則是將傳入的數值變成整數\n",
    "'''\n",
    "\n",
    "a = str(3)\n",
    "print(a)\n",
    "b = int(a)\n",
    "print(b)"
   ]
  },
  {
   "cell_type": "code",
   "execution_count": 13,
   "metadata": {},
   "outputs": [
    {
     "name": "stdout",
     "output_type": "stream",
     "text": [
      "3.0\n",
      "3\n"
     ]
    }
   ],
   "source": [
    "'''\n",
    "float() 函式\n",
    "便是將傳入的數值轉成浮點數啦，自己試試看吧！\n",
    "'''\n",
    "\n",
    "a = float(3)\n",
    "print(a)\n",
    "b = int(a)\n",
    "print(b)"
   ]
  }
 ],
 "metadata": {
  "kernelspec": {
   "display_name": "Python 3",
   "language": "python",
   "name": "python3"
  },
  "language_info": {
   "codemirror_mode": {
    "name": "ipython",
    "version": 3
   },
   "file_extension": ".py",
   "mimetype": "text/x-python",
   "name": "python",
   "nbconvert_exporter": "python",
   "pygments_lexer": "ipython3",
   "version": "3.7.0"
  }
 },
 "nbformat": 4,
 "nbformat_minor": 2
}
