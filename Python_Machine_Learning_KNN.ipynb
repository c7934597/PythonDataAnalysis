{
 "cells": [
  {
   "cell_type": "code",
   "execution_count": 11,
   "metadata": {},
   "outputs": [
    {
     "data": {
      "text/plain": [
       "array([[5.1, 3.5, 1.4, 0.2],\n",
       "       [4.9, 3. , 1.4, 0.2],\n",
       "       [4.7, 3.2, 1.3, 0.2]])"
      ]
     },
     "execution_count": 11,
     "metadata": {},
     "output_type": "execute_result"
    }
   ],
   "source": [
    "#我們要找出和新數據附近的K個鄰居（資料），這些鄰居是哪一類（標籤）的它就是哪一類\n",
    "\n",
    "from sklearn import datasets\n",
    "from sklearn.model_selection import train_test_split\n",
    "from sklearn.neighbors import KNeighborsClassifier\n",
    "import numpy as np\n",
    "\n",
    "#load_iris 要匯入鳶尾花的資料只需要使用datasets.load_iris()\n",
    "iris = datasets.load_iris()\n",
    "\n",
    "#定義特徵資料：\n",
    "iris_data = iris.data\n",
    "\n",
    "#可以印出前三筆資料：\n",
    "iris_data[0:3]"
   ]
  },
  {
   "cell_type": "code",
   "execution_count": 21,
   "metadata": {},
   "outputs": [],
   "source": [
    "#定義標籤資料\n",
    "iris_label = iris.target\n",
    "\n",
    "#我們將資料分成兩份的程式碼：一部分是用來訓練電腦的(0.8)、一部份用來測試(0.2)\n",
    "train_data , test_data , train_label , test_label = train_test_split(iris_data,iris_label,test_size=0.2)"
   ]
  },
  {
   "cell_type": "code",
   "execution_count": 22,
   "metadata": {},
   "outputs": [
    {
     "data": {
      "text/plain": [
       "KNeighborsClassifier(algorithm='auto', leaf_size=30, metric='minkowski',\n",
       "           metric_params=None, n_jobs=None, n_neighbors=5, p=2,\n",
       "           weights='uniform')"
      ]
     },
     "execution_count": 22,
     "metadata": {},
     "output_type": "execute_result"
    }
   ],
   "source": [
    "#KNeighborsClassifier 要使用KNeighbors分類法，直接使用sklearn的KNeighborsClassifier()就可以了\n",
    "knn = KNeighborsClassifier()\n",
    "knn.fit(train_data,train_label)"
   ]
  },
  {
   "cell_type": "code",
   "execution_count": 23,
   "metadata": {},
   "outputs": [
    {
     "name": "stdout",
     "output_type": "stream",
     "text": [
      "[0 0 2 0 2 1 1 1 0 0 1 2 0 0 0 0 0 1 2 1 2 1 1 0 1 1 1 2 2 2]\n"
     ]
    }
   ],
   "source": [
    "#predict 預測我們剛剛切分出來的test_data資料\n",
    "print(knn.predict(test_data))"
   ]
  },
  {
   "cell_type": "code",
   "execution_count": 24,
   "metadata": {},
   "outputs": [
    {
     "name": "stdout",
     "output_type": "stream",
     "text": [
      "[0 0 2 0 2 1 1 1 0 0 1 2 0 0 0 0 0 1 2 1 2 1 1 0 1 1 1 2 2 1]\n"
     ]
    }
   ],
   "source": [
    "#看一下正確答案是否跟預測一樣\n",
    "print(test_label)"
   ]
  }
 ],
 "metadata": {
  "kernelspec": {
   "display_name": "Python 3",
   "language": "python",
   "name": "python3"
  },
  "language_info": {
   "codemirror_mode": {
    "name": "ipython",
    "version": 3
   },
   "file_extension": ".py",
   "mimetype": "text/x-python",
   "name": "python",
   "nbconvert_exporter": "python",
   "pygments_lexer": "ipython3",
   "version": "3.7.0"
  }
 },
 "nbformat": 4,
 "nbformat_minor": 2
}
