{
 "cells": [
  {
   "cell_type": "code",
   "execution_count": 2,
   "metadata": {},
   "outputs": [
    {
     "name": "stdout",
     "output_type": "stream",
     "text": [
      "time.struct_time(tm_year=2018, tm_mon=9, tm_mday=26, tm_hour=16, tm_min=22, tm_sec=45, tm_wday=2, tm_yday=269, tm_isdst=0)\n"
     ]
    }
   ],
   "source": [
    "import time\n",
    "print(time.localtime())"
   ]
  },
  {
   "cell_type": "code",
   "execution_count": 2,
   "metadata": {},
   "outputs": [
    {
     "data": {
      "text/plain": [
       "1"
      ]
     },
     "execution_count": 2,
     "metadata": {},
     "output_type": "execute_result"
    }
   ],
   "source": [
    "a = 0\n",
    "b = 1\n",
    "a + b"
   ]
  },
  {
   "cell_type": "markdown",
   "metadata": {},
   "source": [
    "## hello world!"
   ]
  },
  {
   "cell_type": "code",
   "execution_count": 4,
   "metadata": {},
   "outputs": [
    {
     "name": "stdout",
     "output_type": "stream",
     "text": [
      "hellow world\n"
     ]
    }
   ],
   "source": [
    "#註解掉不會執行\n",
    "print('hellow world')\n",
    "\n",
    "'''\n",
    "多行註解\n",
    "多行註解\n",
    "多行註解\n",
    "多行註解\n",
    "'''"
   ]
  },
  {
   "cell_type": "code",
   "execution_count": 1,
   "metadata": {},
   "outputs": [
    {
     "name": "stdout",
     "output_type": "stream",
     "text": [
      "hello world\n",
      "input text: hello world\n"
     ]
    }
   ],
   "source": [
    "user_input = input()\n",
    "print(\"input text:\",user_input)"
   ]
  },
  {
   "cell_type": "code",
   "execution_count": 1,
   "metadata": {},
   "outputs": [
    {
     "name": "stdout",
     "output_type": "stream",
     "text": [
      "10 1111.1 apple\n"
     ]
    }
   ],
   "source": [
    "my_number = 10 \n",
    "my_float = 1111.1 # 浮點數\n",
    "my_name = \"apple\" # 字串\n",
    "print(my_number,my_float,my_name)"
   ]
  },
  {
   "cell_type": "code",
   "execution_count": 4,
   "metadata": {},
   "outputs": [
    {
     "name": "stdout",
     "output_type": "stream",
     "text": [
      "[1, 'string', 3.1, [5, 6, 7]]\n",
      "1\n",
      "['string', 3.1]\n",
      "['string', 3.1, [5, 6, 7]]\n"
     ]
    }
   ],
   "source": [
    "list_data = [1,'string',3.1,[5,6,7]]\n",
    "print (list_data)               # 輸出完整的list\n",
    "print (list_data[0])            # 輸出第一個元素\n",
    "print (list_data[1:3])          # 輸出第二個到第三個個元素 \n",
    "print (list_data[1:])           # 輸出第二個到最後一個元素"
   ]
  },
  {
   "cell_type": "code",
   "execution_count": 5,
   "metadata": {},
   "outputs": [
    {
     "name": "stdout",
     "output_type": "stream",
     "text": [
      "10\n"
     ]
    }
   ],
   "source": [
    "list_data = [1,'string',3.1,[5,6,7],[8,9,10]]\n",
    "print(list_data[4][2])"
   ]
  }
 ],
 "metadata": {
  "kernelspec": {
   "display_name": "Python 3",
   "language": "python",
   "name": "python3"
  },
  "language_info": {
   "codemirror_mode": {
    "name": "ipython",
    "version": 3
   },
   "file_extension": ".py",
   "mimetype": "text/x-python",
   "name": "python",
   "nbconvert_exporter": "python",
   "pygments_lexer": "ipython3",
   "version": "3.7.0"
  }
 },
 "nbformat": 4,
 "nbformat_minor": 2
}
