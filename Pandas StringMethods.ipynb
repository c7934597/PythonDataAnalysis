{
 "cells": [
  {
   "cell_type": "code",
   "execution_count": 1,
   "metadata": {},
   "outputs": [
    {
     "data": {
      "text/plain": [
       "'hello world'"
      ]
     },
     "execution_count": 1,
     "metadata": {},
     "output_type": "execute_result"
    }
   ],
   "source": [
    "\"HELLO WORLD\".lower()"
   ]
  },
  {
   "cell_type": "code",
   "execution_count": 2,
   "metadata": {},
   "outputs": [
    {
     "data": {
      "text/plain": [
       "'HELLO WORLD'"
      ]
     },
     "execution_count": 2,
     "metadata": {},
     "output_type": "execute_result"
    }
   ],
   "source": [
    "\"hello world\".upper() "
   ]
  },
  {
   "cell_type": "code",
   "execution_count": 3,
   "metadata": {},
   "outputs": [
    {
     "data": {
      "text/plain": [
       "'Hello World'"
      ]
     },
     "execution_count": 3,
     "metadata": {},
     "output_type": "execute_result"
    }
   ],
   "source": [
    "\"hello world\".title() "
   ]
  },
  {
   "cell_type": "code",
   "execution_count": 4,
   "metadata": {},
   "outputs": [
    {
     "data": {
      "text/plain": [
       "11"
      ]
     },
     "execution_count": 4,
     "metadata": {},
     "output_type": "execute_result"
    }
   ],
   "source": [
    "len(\"hello world\")"
   ]
  },
  {
   "cell_type": "code",
   "execution_count": 10,
   "metadata": {},
   "outputs": [
    {
     "data": {
      "text/html": [
       "<div>\n",
       "<style scoped>\n",
       "    .dataframe tbody tr th:only-of-type {\n",
       "        vertical-align: middle;\n",
       "    }\n",
       "\n",
       "    .dataframe tbody tr th {\n",
       "        vertical-align: top;\n",
       "    }\n",
       "\n",
       "    .dataframe thead th {\n",
       "        text-align: right;\n",
       "    }\n",
       "</style>\n",
       "<table border=\"1\" class=\"dataframe\">\n",
       "  <thead>\n",
       "    <tr style=\"text-align: right;\">\n",
       "      <th></th>\n",
       "      <th>ANCESTOR</th>\n",
       "      <th>ASSETNUM</th>\n",
       "      <th>ASSETTAG</th>\n",
       "      <th>ASSETTYPE</th>\n",
       "      <th>AUTOWOGEN</th>\n",
       "      <th>BINNUM</th>\n",
       "      <th>BUDGETCOST</th>\n",
       "      <th>CALNUM</th>\n",
       "      <th>CHANGEBY</th>\n",
       "      <th>CHANGEDATE</th>\n",
       "      <th>CHANGEPMSTATUS</th>\n",
       "      <th>CHILDREN</th>\n",
       "      <th>CONDITIONCODE</th>\n",
       "      <th>AS_DESCRIPTION</th>\n",
       "    </tr>\n",
       "  </thead>\n",
       "  <tbody>\n",
       "    <tr>\n",
       "      <th>0</th>\n",
       "      <td>1</td>\n",
       "      <td>note031</td>\n",
       "      <td>44</td>\n",
       "      <td>IT4</td>\n",
       "      <td>0</td>\n",
       "      <td>56</td>\n",
       "      <td>0</td>\n",
       "      <td>88</td>\n",
       "      <td>MAXADMIN</td>\n",
       "      <td>2011-09-22T17:11:45-07:00</td>\n",
       "      <td>0.0</td>\n",
       "      <td>0.0</td>\n",
       "      <td>90</td>\n",
       "      <td>Thinkpad notebook T61P</td>\n",
       "    </tr>\n",
       "    <tr>\n",
       "      <th>1</th>\n",
       "      <td>2</td>\n",
       "      <td>note032</td>\n",
       "      <td>55</td>\n",
       "      <td>IT5</td>\n",
       "      <td>0</td>\n",
       "      <td>57</td>\n",
       "      <td>err</td>\n",
       "      <td>89</td>\n",
       "      <td>MAXADMIN</td>\n",
       "      <td>2011-09-22T17:11:45-07:00</td>\n",
       "      <td>0.0</td>\n",
       "      <td>NaN</td>\n",
       "      <td>91</td>\n",
       "      <td>Thinkpad notebook T61P</td>\n",
       "    </tr>\n",
       "    <tr>\n",
       "      <th>2</th>\n",
       "      <td>3</td>\n",
       "      <td>note033</td>\n",
       "      <td>66</td>\n",
       "      <td>IT6</td>\n",
       "      <td>abc</td>\n",
       "      <td>58</td>\n",
       "      <td>err</td>\n",
       "      <td>90</td>\n",
       "      <td>MAXADMIN</td>\n",
       "      <td>2011-09-22T17:11:45-07:00</td>\n",
       "      <td>NaN</td>\n",
       "      <td>0.0</td>\n",
       "      <td>92</td>\n",
       "      <td>Thinkpad notebook T61P</td>\n",
       "    </tr>\n",
       "    <tr>\n",
       "      <th>3</th>\n",
       "      <td>4</td>\n",
       "      <td>note034</td>\n",
       "      <td>77</td>\n",
       "      <td>IT7</td>\n",
       "      <td>0</td>\n",
       "      <td>59</td>\n",
       "      <td>0</td>\n",
       "      <td>91</td>\n",
       "      <td>MAXADMIN</td>\n",
       "      <td>2011-09-22T17:11:45-07:00</td>\n",
       "      <td>NaN</td>\n",
       "      <td>0.0</td>\n",
       "      <td>93</td>\n",
       "      <td>Thinkpad notebook T61P</td>\n",
       "    </tr>\n",
       "    <tr>\n",
       "      <th>4</th>\n",
       "      <td>5</td>\n",
       "      <td>note035</td>\n",
       "      <td>88</td>\n",
       "      <td>IT8</td>\n",
       "      <td>0</td>\n",
       "      <td>60</td>\n",
       "      <td>err</td>\n",
       "      <td>92</td>\n",
       "      <td>MAXADMIN</td>\n",
       "      <td>2011-09-22T17:11:45-07:00</td>\n",
       "      <td>0.0</td>\n",
       "      <td>0.0</td>\n",
       "      <td>94</td>\n",
       "      <td>Thinkpad notebook T61P</td>\n",
       "    </tr>\n",
       "    <tr>\n",
       "      <th>5</th>\n",
       "      <td>6</td>\n",
       "      <td>note036</td>\n",
       "      <td>99</td>\n",
       "      <td>IT9</td>\n",
       "      <td>abc</td>\n",
       "      <td>61</td>\n",
       "      <td>0</td>\n",
       "      <td>93</td>\n",
       "      <td>MAXADMIN</td>\n",
       "      <td>2011-09-22T17:11:45-07:00</td>\n",
       "      <td>0.0</td>\n",
       "      <td>0.0</td>\n",
       "      <td>95</td>\n",
       "      <td>Thinkpad notebook T61P</td>\n",
       "    </tr>\n",
       "    <tr>\n",
       "      <th>6</th>\n",
       "      <td>7</td>\n",
       "      <td>note037</td>\n",
       "      <td>110</td>\n",
       "      <td>IT10</td>\n",
       "      <td>abc</td>\n",
       "      <td>62</td>\n",
       "      <td>0</td>\n",
       "      <td>94</td>\n",
       "      <td>MAXADMIN</td>\n",
       "      <td>2011-09-22T17:11:45-07:00</td>\n",
       "      <td>0.0</td>\n",
       "      <td>0.0</td>\n",
       "      <td>96</td>\n",
       "      <td>Thinkpad notebook T61P</td>\n",
       "    </tr>\n",
       "    <tr>\n",
       "      <th>7</th>\n",
       "      <td>8</td>\n",
       "      <td>note038</td>\n",
       "      <td>121</td>\n",
       "      <td>IT11</td>\n",
       "      <td>0</td>\n",
       "      <td>63</td>\n",
       "      <td>err</td>\n",
       "      <td>95</td>\n",
       "      <td>MAXADMIN</td>\n",
       "      <td>2011-09-22T17:11:45-07:00</td>\n",
       "      <td>0.0</td>\n",
       "      <td>0.0</td>\n",
       "      <td>97</td>\n",
       "      <td>Thinkpad notebook T61P</td>\n",
       "    </tr>\n",
       "    <tr>\n",
       "      <th>8</th>\n",
       "      <td>9</td>\n",
       "      <td>note039</td>\n",
       "      <td>132</td>\n",
       "      <td>IT12</td>\n",
       "      <td>0</td>\n",
       "      <td>64</td>\n",
       "      <td>err</td>\n",
       "      <td>96</td>\n",
       "      <td>MAXADMIN</td>\n",
       "      <td>2011-09-22T17:11:45-07:00</td>\n",
       "      <td>0.0</td>\n",
       "      <td>0.0</td>\n",
       "      <td>98</td>\n",
       "      <td>Thinkpad notebook T61P</td>\n",
       "    </tr>\n",
       "    <tr>\n",
       "      <th>9</th>\n",
       "      <td>10</td>\n",
       "      <td>note040</td>\n",
       "      <td>143</td>\n",
       "      <td>IT13</td>\n",
       "      <td>abc</td>\n",
       "      <td>65</td>\n",
       "      <td>0</td>\n",
       "      <td>97</td>\n",
       "      <td>MAXADMIN</td>\n",
       "      <td>2011-09-22T17:11:45-07:00</td>\n",
       "      <td>0.0</td>\n",
       "      <td>0.0</td>\n",
       "      <td>99</td>\n",
       "      <td>Thinkpad notebook T61P</td>\n",
       "    </tr>\n",
       "  </tbody>\n",
       "</table>\n",
       "</div>"
      ],
      "text/plain": [
       "   ANCESTOR ASSETNUM  ASSETTAG ASSETTYPE AUTOWOGEN  BINNUM BUDGETCOST  CALNUM  \\\n",
       "0         1  note031        44       IT4         0      56          0      88   \n",
       "1         2  note032        55       IT5         0      57        err      89   \n",
       "2         3  note033        66       IT6       abc      58        err      90   \n",
       "3         4  note034        77       IT7         0      59          0      91   \n",
       "4         5  note035        88       IT8         0      60        err      92   \n",
       "5         6  note036        99       IT9       abc      61          0      93   \n",
       "6         7  note037       110      IT10       abc      62          0      94   \n",
       "7         8  note038       121      IT11         0      63        err      95   \n",
       "8         9  note039       132      IT12         0      64        err      96   \n",
       "9        10  note040       143      IT13       abc      65          0      97   \n",
       "\n",
       "   CHANGEBY                 CHANGEDATE  CHANGEPMSTATUS  CHILDREN  \\\n",
       "0  MAXADMIN  2011-09-22T17:11:45-07:00             0.0       0.0   \n",
       "1  MAXADMIN  2011-09-22T17:11:45-07:00             0.0       NaN   \n",
       "2  MAXADMIN  2011-09-22T17:11:45-07:00             NaN       0.0   \n",
       "3  MAXADMIN  2011-09-22T17:11:45-07:00             NaN       0.0   \n",
       "4  MAXADMIN  2011-09-22T17:11:45-07:00             0.0       0.0   \n",
       "5  MAXADMIN  2011-09-22T17:11:45-07:00             0.0       0.0   \n",
       "6  MAXADMIN  2011-09-22T17:11:45-07:00             0.0       0.0   \n",
       "7  MAXADMIN  2011-09-22T17:11:45-07:00             0.0       0.0   \n",
       "8  MAXADMIN  2011-09-22T17:11:45-07:00             0.0       0.0   \n",
       "9  MAXADMIN  2011-09-22T17:11:45-07:00             0.0       0.0   \n",
       "\n",
       "   CONDITIONCODE          AS_DESCRIPTION  \n",
       "0             90  Thinkpad notebook T61P  \n",
       "1             91  Thinkpad notebook T61P  \n",
       "2             92  Thinkpad notebook T61P  \n",
       "3             93  Thinkpad notebook T61P  \n",
       "4             94  Thinkpad notebook T61P  \n",
       "5             95  Thinkpad notebook T61P  \n",
       "6             96  Thinkpad notebook T61P  \n",
       "7             97  Thinkpad notebook T61P  \n",
       "8             98  Thinkpad notebook T61P  \n",
       "9             99  Thinkpad notebook T61P  "
      ]
     },
     "execution_count": 10,
     "metadata": {},
     "output_type": "execute_result"
    }
   ],
   "source": [
    "import pandas as pd\n",
    "\n",
    "df = pd.read_csv('C:/Users/02445/AssetsImportCompleteSample.csv')\n",
    "\n",
    "#使用astype()資料類型轉成category，這樣做為了減少記憶體使用的大小\n",
    "df[\"ASSETNUM\"] = df[\"ASSETNUM\"].astype(\"category\")\n",
    "df.head(10)"
   ]
  },
  {
   "cell_type": "code",
   "execution_count": 13,
   "metadata": {},
   "outputs": [
    {
     "data": {
      "text/plain": [
       "0    Note031\n",
       "1    Note032\n",
       "2    Note033\n",
       "3    Note034\n",
       "4    Note035\n",
       "5    Note036\n",
       "6    Note037\n",
       "7    Note038\n",
       "8    Note039\n",
       "9    Note040\n",
       "Name: ASSETNUM, dtype: object"
      ]
     },
     "execution_count": 13,
     "metadata": {},
     "output_type": "execute_result"
    }
   ],
   "source": [
    "#讓資料使用title()這個方法\n",
    "\n",
    "df[\"ASSETNUM\"].str.title().head(10)"
   ]
  },
  {
   "cell_type": "code",
   "execution_count": 15,
   "metadata": {},
   "outputs": [
    {
     "data": {
      "text/plain": [
       "pandas.core.strings.StringMethods"
      ]
     },
     "execution_count": 15,
     "metadata": {},
     "output_type": "execute_result"
    }
   ],
   "source": [
    "#它是什麼資料類型\n",
    "\n",
    "type(df[\"ASSETNUM\"].str)"
   ]
  },
  {
   "cell_type": "code",
   "execution_count": 16,
   "metadata": {},
   "outputs": [
    {
     "data": {
      "text/plain": [
       "0    note031\n",
       "1    note032\n",
       "2    note033\n",
       "Name: ASSETNUM, dtype: object"
      ]
     },
     "execution_count": 16,
     "metadata": {},
     "output_type": "execute_result"
    }
   ],
   "source": [
    "df[\"ASSETNUM\"].str.lower().head(3)"
   ]
  },
  {
   "cell_type": "code",
   "execution_count": 17,
   "metadata": {},
   "outputs": [
    {
     "data": {
      "text/plain": [
       "0    NOTE031\n",
       "1    NOTE032\n",
       "2    NOTE033\n",
       "Name: ASSETNUM, dtype: object"
      ]
     },
     "execution_count": 17,
     "metadata": {},
     "output_type": "execute_result"
    }
   ],
   "source": [
    "df[\"ASSETNUM\"].str.upper().head(3)"
   ]
  },
  {
   "cell_type": "code",
   "execution_count": 19,
   "metadata": {},
   "outputs": [
    {
     "data": {
      "text/plain": [
       "0    7\n",
       "1    7\n",
       "2    7\n",
       "Name: ASSETNUM, dtype: int64"
      ]
     },
     "execution_count": 19,
     "metadata": {},
     "output_type": "execute_result"
    }
   ],
   "source": [
    "df[\"ASSETNUM\"].str.len().head(3)"
   ]
  },
  {
   "cell_type": "code",
   "execution_count": 21,
   "metadata": {},
   "outputs": [
    {
     "data": {
      "text/html": [
       "<div>\n",
       "<style scoped>\n",
       "    .dataframe tbody tr th:only-of-type {\n",
       "        vertical-align: middle;\n",
       "    }\n",
       "\n",
       "    .dataframe tbody tr th {\n",
       "        vertical-align: top;\n",
       "    }\n",
       "\n",
       "    .dataframe thead th {\n",
       "        text-align: right;\n",
       "    }\n",
       "</style>\n",
       "<table border=\"1\" class=\"dataframe\">\n",
       "  <thead>\n",
       "    <tr style=\"text-align: right;\">\n",
       "      <th></th>\n",
       "      <th>ANCESTOR</th>\n",
       "      <th>ASSETNUM</th>\n",
       "      <th>ASSETTAG</th>\n",
       "      <th>ASSETTYPE</th>\n",
       "      <th>AUTOWOGEN</th>\n",
       "      <th>BINNUM</th>\n",
       "      <th>BUDGETCOST</th>\n",
       "      <th>CALNUM</th>\n",
       "      <th>CHANGEBY</th>\n",
       "      <th>CHANGEDATE</th>\n",
       "      <th>CHANGEPMSTATUS</th>\n",
       "      <th>CHILDREN</th>\n",
       "      <th>CONDITIONCODE</th>\n",
       "      <th>AS_DESCRIPTION</th>\n",
       "    </tr>\n",
       "  </thead>\n",
       "  <tbody>\n",
       "    <tr>\n",
       "      <th>0</th>\n",
       "      <td>1</td>\n",
       "      <td>Note031</td>\n",
       "      <td>44</td>\n",
       "      <td>IT4</td>\n",
       "      <td>0</td>\n",
       "      <td>56</td>\n",
       "      <td>0</td>\n",
       "      <td>88</td>\n",
       "      <td>MAXADMIN</td>\n",
       "      <td>2011-09-22T17:11:45-07:00</td>\n",
       "      <td>0.0</td>\n",
       "      <td>0.0</td>\n",
       "      <td>90</td>\n",
       "      <td>Thinkpad notebook T61P</td>\n",
       "    </tr>\n",
       "    <tr>\n",
       "      <th>1</th>\n",
       "      <td>2</td>\n",
       "      <td>Note032</td>\n",
       "      <td>55</td>\n",
       "      <td>IT5</td>\n",
       "      <td>0</td>\n",
       "      <td>57</td>\n",
       "      <td>err</td>\n",
       "      <td>89</td>\n",
       "      <td>MAXADMIN</td>\n",
       "      <td>2011-09-22T17:11:45-07:00</td>\n",
       "      <td>0.0</td>\n",
       "      <td>NaN</td>\n",
       "      <td>91</td>\n",
       "      <td>Thinkpad notebook T61P</td>\n",
       "    </tr>\n",
       "    <tr>\n",
       "      <th>2</th>\n",
       "      <td>3</td>\n",
       "      <td>Note033</td>\n",
       "      <td>66</td>\n",
       "      <td>IT6</td>\n",
       "      <td>abc</td>\n",
       "      <td>58</td>\n",
       "      <td>err</td>\n",
       "      <td>90</td>\n",
       "      <td>MAXADMIN</td>\n",
       "      <td>2011-09-22T17:11:45-07:00</td>\n",
       "      <td>NaN</td>\n",
       "      <td>0.0</td>\n",
       "      <td>92</td>\n",
       "      <td>Thinkpad notebook T61P</td>\n",
       "    </tr>\n",
       "    <tr>\n",
       "      <th>3</th>\n",
       "      <td>4</td>\n",
       "      <td>Note034</td>\n",
       "      <td>77</td>\n",
       "      <td>IT7</td>\n",
       "      <td>0</td>\n",
       "      <td>59</td>\n",
       "      <td>0</td>\n",
       "      <td>91</td>\n",
       "      <td>MAXADMIN</td>\n",
       "      <td>2011-09-22T17:11:45-07:00</td>\n",
       "      <td>NaN</td>\n",
       "      <td>0.0</td>\n",
       "      <td>93</td>\n",
       "      <td>Thinkpad notebook T61P</td>\n",
       "    </tr>\n",
       "    <tr>\n",
       "      <th>4</th>\n",
       "      <td>5</td>\n",
       "      <td>Note035</td>\n",
       "      <td>88</td>\n",
       "      <td>IT8</td>\n",
       "      <td>0</td>\n",
       "      <td>60</td>\n",
       "      <td>err</td>\n",
       "      <td>92</td>\n",
       "      <td>MAXADMIN</td>\n",
       "      <td>2011-09-22T17:11:45-07:00</td>\n",
       "      <td>0.0</td>\n",
       "      <td>0.0</td>\n",
       "      <td>94</td>\n",
       "      <td>Thinkpad notebook T61P</td>\n",
       "    </tr>\n",
       "  </tbody>\n",
       "</table>\n",
       "</div>"
      ],
      "text/plain": [
       "   ANCESTOR ASSETNUM  ASSETTAG ASSETTYPE AUTOWOGEN  BINNUM BUDGETCOST  CALNUM  \\\n",
       "0         1  Note031        44       IT4         0      56          0      88   \n",
       "1         2  Note032        55       IT5         0      57        err      89   \n",
       "2         3  Note033        66       IT6       abc      58        err      90   \n",
       "3         4  Note034        77       IT7         0      59          0      91   \n",
       "4         5  Note035        88       IT8         0      60        err      92   \n",
       "\n",
       "   CHANGEBY                 CHANGEDATE  CHANGEPMSTATUS  CHILDREN  \\\n",
       "0  MAXADMIN  2011-09-22T17:11:45-07:00             0.0       0.0   \n",
       "1  MAXADMIN  2011-09-22T17:11:45-07:00             0.0       NaN   \n",
       "2  MAXADMIN  2011-09-22T17:11:45-07:00             NaN       0.0   \n",
       "3  MAXADMIN  2011-09-22T17:11:45-07:00             NaN       0.0   \n",
       "4  MAXADMIN  2011-09-22T17:11:45-07:00             0.0       0.0   \n",
       "\n",
       "   CONDITIONCODE          AS_DESCRIPTION  \n",
       "0             90  Thinkpad notebook T61P  \n",
       "1             91  Thinkpad notebook T61P  \n",
       "2             92  Thinkpad notebook T61P  \n",
       "3             93  Thinkpad notebook T61P  \n",
       "4             94  Thinkpad notebook T61P  "
      ]
     },
     "execution_count": 21,
     "metadata": {},
     "output_type": "execute_result"
    }
   ],
   "source": [
    "#更改資料\n",
    "\n",
    "df[\"ASSETNUM\"] = df[\"ASSETNUM\"].str.title()\n",
    "df.head()"
   ]
  },
  {
   "cell_type": "code",
   "execution_count": 22,
   "metadata": {},
   "outputs": [
    {
     "data": {
      "text/plain": [
       "'He!!o wor!d'"
      ]
     },
     "execution_count": 22,
     "metadata": {},
     "output_type": "execute_result"
    }
   ],
   "source": [
    "\"Hello world\".replace(\"l\",\"!\")"
   ]
  },
  {
   "cell_type": "code",
   "execution_count": 24,
   "metadata": {},
   "outputs": [
    {
     "data": {
      "text/html": [
       "<div>\n",
       "<style scoped>\n",
       "    .dataframe tbody tr th:only-of-type {\n",
       "        vertical-align: middle;\n",
       "    }\n",
       "\n",
       "    .dataframe tbody tr th {\n",
       "        vertical-align: top;\n",
       "    }\n",
       "\n",
       "    .dataframe thead th {\n",
       "        text-align: right;\n",
       "    }\n",
       "</style>\n",
       "<table border=\"1\" class=\"dataframe\">\n",
       "  <thead>\n",
       "    <tr style=\"text-align: right;\">\n",
       "      <th></th>\n",
       "      <th>ANCESTOR</th>\n",
       "      <th>ASSETNUM</th>\n",
       "      <th>ASSETTAG</th>\n",
       "      <th>ASSETTYPE</th>\n",
       "      <th>AUTOWOGEN</th>\n",
       "      <th>BINNUM</th>\n",
       "      <th>BUDGETCOST</th>\n",
       "      <th>CALNUM</th>\n",
       "      <th>CHANGEBY</th>\n",
       "      <th>CHANGEDATE</th>\n",
       "      <th>CHANGEPMSTATUS</th>\n",
       "      <th>CHILDREN</th>\n",
       "      <th>CONDITIONCODE</th>\n",
       "      <th>AS_DESCRIPTION</th>\n",
       "    </tr>\n",
       "  </thead>\n",
       "  <tbody>\n",
       "    <tr>\n",
       "      <th>0</th>\n",
       "      <td>1</td>\n",
       "      <td>Nobb031</td>\n",
       "      <td>44</td>\n",
       "      <td>IT4</td>\n",
       "      <td>0</td>\n",
       "      <td>56</td>\n",
       "      <td>0</td>\n",
       "      <td>88</td>\n",
       "      <td>MAXADMIN</td>\n",
       "      <td>2011-09-22T17:11:45-07:00</td>\n",
       "      <td>0.0</td>\n",
       "      <td>0.0</td>\n",
       "      <td>90</td>\n",
       "      <td>Thinkpad notebook T61P</td>\n",
       "    </tr>\n",
       "    <tr>\n",
       "      <th>1</th>\n",
       "      <td>2</td>\n",
       "      <td>Nobb032</td>\n",
       "      <td>55</td>\n",
       "      <td>IT5</td>\n",
       "      <td>0</td>\n",
       "      <td>57</td>\n",
       "      <td>err</td>\n",
       "      <td>89</td>\n",
       "      <td>MAXADMIN</td>\n",
       "      <td>2011-09-22T17:11:45-07:00</td>\n",
       "      <td>0.0</td>\n",
       "      <td>NaN</td>\n",
       "      <td>91</td>\n",
       "      <td>Thinkpad notebook T61P</td>\n",
       "    </tr>\n",
       "    <tr>\n",
       "      <th>2</th>\n",
       "      <td>3</td>\n",
       "      <td>Nobb033</td>\n",
       "      <td>66</td>\n",
       "      <td>IT6</td>\n",
       "      <td>abc</td>\n",
       "      <td>58</td>\n",
       "      <td>err</td>\n",
       "      <td>90</td>\n",
       "      <td>MAXADMIN</td>\n",
       "      <td>2011-09-22T17:11:45-07:00</td>\n",
       "      <td>NaN</td>\n",
       "      <td>0.0</td>\n",
       "      <td>92</td>\n",
       "      <td>Thinkpad notebook T61P</td>\n",
       "    </tr>\n",
       "  </tbody>\n",
       "</table>\n",
       "</div>"
      ],
      "text/plain": [
       "   ANCESTOR ASSETNUM  ASSETTAG ASSETTYPE AUTOWOGEN  BINNUM BUDGETCOST  CALNUM  \\\n",
       "0         1  Nobb031        44       IT4         0      56          0      88   \n",
       "1         2  Nobb032        55       IT5         0      57        err      89   \n",
       "2         3  Nobb033        66       IT6       abc      58        err      90   \n",
       "\n",
       "   CHANGEBY                 CHANGEDATE  CHANGEPMSTATUS  CHILDREN  \\\n",
       "0  MAXADMIN  2011-09-22T17:11:45-07:00             0.0       0.0   \n",
       "1  MAXADMIN  2011-09-22T17:11:45-07:00             0.0       NaN   \n",
       "2  MAXADMIN  2011-09-22T17:11:45-07:00             NaN       0.0   \n",
       "\n",
       "   CONDITIONCODE          AS_DESCRIPTION  \n",
       "0             90  Thinkpad notebook T61P  \n",
       "1             91  Thinkpad notebook T61P  \n",
       "2             92  Thinkpad notebook T61P  "
      ]
     },
     "execution_count": 24,
     "metadata": {},
     "output_type": "execute_result"
    }
   ],
   "source": [
    "import pandas as pd\n",
    "\n",
    "df = pd.read_csv('C:/Users/02445/AssetsImportCompleteSample.csv').dropna(how=\"all\")\n",
    "df[\"ASSETNUM\"] = df[\"ASSETNUM\"].astype(\"category\")\n",
    "df.head(3)\n",
    "\n",
    "#使用replace()\n",
    "df[\"ASSETNUM\"] = df[\"ASSETNUM\"].str.replace(\"note\",\"Nobb\")\n",
    "df.head(3)"
   ]
  },
  {
   "cell_type": "code",
   "execution_count": 26,
   "metadata": {},
   "outputs": [
    {
     "data": {
      "text/plain": [
       "0    False\n",
       "1    False\n",
       "2     True\n",
       "3    False\n",
       "4    False\n",
       "Name: ASSETNUM, dtype: bool"
      ]
     },
     "execution_count": 26,
     "metadata": {},
     "output_type": "execute_result"
    }
   ],
   "source": [
    "# .str.contains()\n",
    "\n",
    "df[\"ASSETNUM\"].str.lower().str.contains(\"33\").head()"
   ]
  },
  {
   "cell_type": "code",
   "execution_count": 32,
   "metadata": {},
   "outputs": [
    {
     "data": {
      "text/html": [
       "<div>\n",
       "<style scoped>\n",
       "    .dataframe tbody tr th:only-of-type {\n",
       "        vertical-align: middle;\n",
       "    }\n",
       "\n",
       "    .dataframe tbody tr th {\n",
       "        vertical-align: top;\n",
       "    }\n",
       "\n",
       "    .dataframe thead th {\n",
       "        text-align: right;\n",
       "    }\n",
       "</style>\n",
       "<table border=\"1\" class=\"dataframe\">\n",
       "  <thead>\n",
       "    <tr style=\"text-align: right;\">\n",
       "      <th></th>\n",
       "      <th>ANCESTOR</th>\n",
       "      <th>ASSETNUM</th>\n",
       "      <th>ASSETTAG</th>\n",
       "      <th>ASSETTYPE</th>\n",
       "      <th>AUTOWOGEN</th>\n",
       "      <th>BINNUM</th>\n",
       "      <th>BUDGETCOST</th>\n",
       "      <th>CALNUM</th>\n",
       "      <th>CHANGEBY</th>\n",
       "      <th>CHANGEDATE</th>\n",
       "      <th>CHANGEPMSTATUS</th>\n",
       "      <th>CHILDREN</th>\n",
       "      <th>CONDITIONCODE</th>\n",
       "      <th>AS_DESCRIPTION</th>\n",
       "    </tr>\n",
       "  </thead>\n",
       "  <tbody>\n",
       "    <tr>\n",
       "      <th>0</th>\n",
       "      <td>1</td>\n",
       "      <td>Nobb031</td>\n",
       "      <td>44</td>\n",
       "      <td>IT4</td>\n",
       "      <td>0</td>\n",
       "      <td>56</td>\n",
       "      <td>0</td>\n",
       "      <td>88</td>\n",
       "      <td>MAXADMIN</td>\n",
       "      <td>2011-09-22T17:11:45-07:00</td>\n",
       "      <td>0.0</td>\n",
       "      <td>0.0</td>\n",
       "      <td>90</td>\n",
       "      <td>Thinkpad notebook T61P</td>\n",
       "    </tr>\n",
       "    <tr>\n",
       "      <th>1</th>\n",
       "      <td>2</td>\n",
       "      <td>Nobb032</td>\n",
       "      <td>55</td>\n",
       "      <td>IT5</td>\n",
       "      <td>0</td>\n",
       "      <td>57</td>\n",
       "      <td>err</td>\n",
       "      <td>89</td>\n",
       "      <td>MAXADMIN</td>\n",
       "      <td>2011-09-22T17:11:45-07:00</td>\n",
       "      <td>0.0</td>\n",
       "      <td>NaN</td>\n",
       "      <td>91</td>\n",
       "      <td>Thinkpad notebook T61P</td>\n",
       "    </tr>\n",
       "    <tr>\n",
       "      <th>2</th>\n",
       "      <td>3</td>\n",
       "      <td>Nobb033</td>\n",
       "      <td>66</td>\n",
       "      <td>IT6</td>\n",
       "      <td>abc</td>\n",
       "      <td>58</td>\n",
       "      <td>err</td>\n",
       "      <td>90</td>\n",
       "      <td>MAXADMIN</td>\n",
       "      <td>2011-09-22T17:11:45-07:00</td>\n",
       "      <td>NaN</td>\n",
       "      <td>0.0</td>\n",
       "      <td>92</td>\n",
       "      <td>Thinkpad notebook T61P</td>\n",
       "    </tr>\n",
       "    <tr>\n",
       "      <th>3</th>\n",
       "      <td>4</td>\n",
       "      <td>Nobb034</td>\n",
       "      <td>77</td>\n",
       "      <td>IT7</td>\n",
       "      <td>0</td>\n",
       "      <td>59</td>\n",
       "      <td>0</td>\n",
       "      <td>91</td>\n",
       "      <td>MAXADMIN</td>\n",
       "      <td>2011-09-22T17:11:45-07:00</td>\n",
       "      <td>NaN</td>\n",
       "      <td>0.0</td>\n",
       "      <td>93</td>\n",
       "      <td>Thinkpad notebook T61P</td>\n",
       "    </tr>\n",
       "    <tr>\n",
       "      <th>4</th>\n",
       "      <td>5</td>\n",
       "      <td>Nobb035</td>\n",
       "      <td>88</td>\n",
       "      <td>IT8</td>\n",
       "      <td>0</td>\n",
       "      <td>60</td>\n",
       "      <td>err</td>\n",
       "      <td>92</td>\n",
       "      <td>MAXADMIN</td>\n",
       "      <td>2011-09-22T17:11:45-07:00</td>\n",
       "      <td>0.0</td>\n",
       "      <td>0.0</td>\n",
       "      <td>94</td>\n",
       "      <td>Thinkpad notebook T61P</td>\n",
       "    </tr>\n",
       "  </tbody>\n",
       "</table>\n",
       "</div>"
      ],
      "text/plain": [
       "   ANCESTOR ASSETNUM  ASSETTAG ASSETTYPE AUTOWOGEN  BINNUM BUDGETCOST  CALNUM  \\\n",
       "0         1  Nobb031        44       IT4         0      56          0      88   \n",
       "1         2  Nobb032        55       IT5         0      57        err      89   \n",
       "2         3  Nobb033        66       IT6       abc      58        err      90   \n",
       "3         4  Nobb034        77       IT7         0      59          0      91   \n",
       "4         5  Nobb035        88       IT8         0      60        err      92   \n",
       "\n",
       "   CHANGEBY                 CHANGEDATE  CHANGEPMSTATUS  CHILDREN  \\\n",
       "0  MAXADMIN  2011-09-22T17:11:45-07:00             0.0       0.0   \n",
       "1  MAXADMIN  2011-09-22T17:11:45-07:00             0.0       NaN   \n",
       "2  MAXADMIN  2011-09-22T17:11:45-07:00             NaN       0.0   \n",
       "3  MAXADMIN  2011-09-22T17:11:45-07:00             NaN       0.0   \n",
       "4  MAXADMIN  2011-09-22T17:11:45-07:00             0.0       0.0   \n",
       "\n",
       "   CONDITIONCODE          AS_DESCRIPTION  \n",
       "0             90  Thinkpad notebook T61P  \n",
       "1             91  Thinkpad notebook T61P  \n",
       "2             92  Thinkpad notebook T61P  \n",
       "3             93  Thinkpad notebook T61P  \n",
       "4             94  Thinkpad notebook T61P  "
      ]
     },
     "execution_count": 32,
     "metadata": {},
     "output_type": "execute_result"
    }
   ],
   "source": [
    "# .str.startswith()\n",
    "#資料內是否開頭是括弧內\n",
    "\n",
    "mask = df[\"ASSETNUM\"].str.lower().str.startswith(\"nobb\")\n",
    "df[mask].head() "
   ]
  },
  {
   "cell_type": "code",
   "execution_count": 35,
   "metadata": {},
   "outputs": [
    {
     "data": {
      "text/plain": [
       "0    [note, 31]\n",
       "1    [note, 32]\n",
       "2    [note, 33]\n",
       "3    [note, 34]\n",
       "4    [note, 35]\n",
       "Name: ASSETNUM, dtype: object"
      ]
     },
     "execution_count": 35,
     "metadata": {},
     "output_type": "execute_result"
    }
   ],
   "source": [
    "#Split Strings by Characters 切割字元\n",
    "\n",
    "import pandas as pd\n",
    "\n",
    "df = pd.read_csv('C:/Users/02445/AssetsImportCompleteSample.csv').dropna(how=\"all\")\n",
    "df[\"ASSETNUM\"] = df[\"ASSETNUM\"].astype(\"category\")\n",
    "df.head(3)\n",
    "\n",
    "\"Hello my name is jiayi\".split(\" \")\n",
    "\n",
    "df[\"ASSETNUM\"].str.split(\"0\").head()"
   ]
  },
  {
   "cell_type": "code",
   "execution_count": 37,
   "metadata": {},
   "outputs": [
    {
     "data": {
      "text/plain": [
       "0    Note\n",
       "1    Note\n",
       "2    Note\n",
       "3    Note\n",
       "4    Note\n",
       "Name: ASSETNUM, dtype: object"
      ]
     },
     "execution_count": 37,
     "metadata": {},
     "output_type": "execute_result"
    }
   ],
   "source": [
    "#分開之後我們就可以像list一樣把內容分別取出來\n",
    "\n",
    "df[\"ASSETNUM\"].str.split(\"0\").str.get(0).str.title().head()"
   ]
  }
 ],
 "metadata": {
  "kernelspec": {
   "display_name": "Python 3",
   "language": "python",
   "name": "python3"
  },
  "language_info": {
   "codemirror_mode": {
    "name": "ipython",
    "version": 3
   },
   "file_extension": ".py",
   "mimetype": "text/x-python",
   "name": "python",
   "nbconvert_exporter": "python",
   "pygments_lexer": "ipython3",
   "version": "3.7.0"
  }
 },
 "nbformat": 4,
 "nbformat_minor": 2
}
