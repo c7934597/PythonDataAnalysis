{
 "cells": [
  {
   "cell_type": "code",
   "execution_count": 6,
   "metadata": {},
   "outputs": [
    {
     "name": "stdout",
     "output_type": "stream",
     "text": [
      "[0]\n"
     ]
    }
   ],
   "source": [
    "#要將模組儲存，可以使用sklearn中的joblib\n",
    "from sklearn import svm\n",
    "from sklearn import datasets\n",
    "from sklearn.externals import joblib\n",
    "\n",
    "#建立資料集以及預測模型clf：\n",
    "clf = svm.SVC(gamma='auto')\n",
    "iris = datasets.load_iris()\n",
    "X,y = iris.data , iris.target\n",
    "clf.fit(X,y)\n",
    "\n",
    "#要將model儲存只要使用joblib.dump()就可以\n",
    "#前面的clf為我們上面的svm.SVC()，後面的clf.pkl為檔名，這裡我們就稱為clf.pkl\n",
    "joblib.dump(clf,'clf.pkl')\n",
    "\n",
    "#呼叫它\n",
    "clf2 = joblib.load('clf.pkl')\n",
    "\n",
    "#我們就可以直接使用它來做預測了，像這樣\n",
    "print(clf2.predict(X[0:1]))"
   ]
  }
 ],
 "metadata": {
  "kernelspec": {
   "display_name": "Python 3",
   "language": "python",
   "name": "python3"
  },
  "language_info": {
   "codemirror_mode": {
    "name": "ipython",
    "version": 3
   },
   "file_extension": ".py",
   "mimetype": "text/x-python",
   "name": "python",
   "nbconvert_exporter": "python",
   "pygments_lexer": "ipython3",
   "version": "3.7.0"
  }
 },
 "nbformat": 4,
 "nbformat_minor": 2
}
