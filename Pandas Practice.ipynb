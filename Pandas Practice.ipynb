{
 "cells": [
  {
   "cell_type": "code",
   "execution_count": 6,
   "metadata": {},
   "outputs": [
    {
     "data": {
      "text/plain": [
       "'0.23.4'"
      ]
     },
     "execution_count": 6,
     "metadata": {},
     "output_type": "execute_result"
    }
   ],
   "source": [
    "import pandas as pd\n",
    "\n",
    "#查看pandas的版本\n",
    "pd.__version__"
   ]
  },
  {
   "cell_type": "code",
   "execution_count": 8,
   "metadata": {},
   "outputs": [
    {
     "data": {
      "text/plain": [
       "RangeIndex(start=0, stop=4, step=1)"
      ]
     },
     "execution_count": 8,
     "metadata": {},
     "output_type": "execute_result"
    }
   ],
   "source": [
    "'''\n",
    "資料類型 - Series\n",
    "Series，是一個類似陣列的物件，裡面可包含陣列的資料\n",
    "'''\n",
    "\n",
    "my_obj = pd.Series([4, 7, -5, 3])\n",
    "\n",
    "#若要讀取Series的value我們可以使用.values\n",
    "my_obj.values\n",
    "\n",
    "#若要讀取Series的index\n",
    "my_obj.index"
   ]
  },
  {
   "cell_type": "code",
   "execution_count": 11,
   "metadata": {},
   "outputs": [
    {
     "data": {
      "text/plain": [
       "8"
      ]
     },
     "execution_count": 11,
     "metadata": {},
     "output_type": "execute_result"
    }
   ],
   "source": [
    "'''\n",
    "改變Index\n",
    "Index可以不一定是要從0開始也可以是其他的內容，我們可以這樣宣告：\n",
    "'''\n",
    "\n",
    "my_obj2 = pd.Series([8,9,10,11], index=['a','b','c','d'])\n",
    "\n",
    "#若要讀取Series的value我們可以使用.values\n",
    "my_obj2.values\n",
    "\n",
    "#若要讀取Series的index\n",
    "my_obj2.index\n",
    "\n",
    "#取出8這個幸運數字\n",
    "my_obj2['a']"
   ]
  }
 ],
 "metadata": {
  "kernelspec": {
   "display_name": "Python 3",
   "language": "python",
   "name": "python3"
  },
  "language_info": {
   "codemirror_mode": {
    "name": "ipython",
    "version": 3
   },
   "file_extension": ".py",
   "mimetype": "text/x-python",
   "name": "python",
   "nbconvert_exporter": "python",
   "pygments_lexer": "ipython3",
   "version": "3.7.0"
  }
 },
 "nbformat": 4,
 "nbformat_minor": 2
}
