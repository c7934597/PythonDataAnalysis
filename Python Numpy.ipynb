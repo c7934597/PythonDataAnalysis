{
  "nbformat": 4,
  "nbformat_minor": 0,
  "metadata": {
    "kernelspec": {
      "display_name": "Python 3",
      "language": "python",
      "name": "python3"
    },
    "language_info": {
      "codemirror_mode": {
        "name": "ipython",
        "version": 3
      },
      "file_extension": ".py",
      "mimetype": "text/x-python",
      "name": "python",
      "nbconvert_exporter": "python",
      "pygments_lexer": "ipython3",
      "version": "3.7.0"
    },
    "colab": {
      "name": "Python Numpy.ipynb",
      "version": "0.3.2",
      "provenance": []
    }
  },
  "cells": [
    {
      "cell_type": "code",
      "metadata": {
        "id": "bO8ZnvIwFJy7",
        "colab_type": "code",
        "colab": {
          "base_uri": "https://localhost:8080/",
          "height": 52
        },
        "outputId": "49a633d2-57c5-40a6-c6a2-686fd140a33f"
      },
      "source": [
        "import numpy as np\n",
        "\n",
        "data = np.array([[ 0.226, -0.23 , -0.86],\n",
        "[ 0.5639, 0.2379, 0.904]])\n",
        "\n",
        "np.array(data)"
      ],
      "execution_count": 2,
      "outputs": [
        {
          "output_type": "execute_result",
          "data": {
            "text/plain": [
              "array([[ 0.226 , -0.23  , -0.86  ],\n",
              "       [ 0.5639,  0.2379,  0.904 ]])"
            ]
          },
          "metadata": {
            "tags": []
          },
          "execution_count": 2
        }
      ]
    },
    {
      "cell_type": "code",
      "metadata": {
        "id": "XC9tTLrGFJzE",
        "colab_type": "code",
        "colab": {
          "base_uri": "https://localhost:8080/",
          "height": 35
        },
        "outputId": "7a9e22f8-f116-4663-9d88-8be2ffb0abb2"
      },
      "source": [
        "#Type provide 我們可以提供我們要的資料類型給它，只需要在括號內加上dtype=資料類型\n",
        "\n",
        "data = np.array([1, 2, 3], dtype=complex)\n",
        "np.array(data)"
      ],
      "execution_count": 3,
      "outputs": [
        {
          "output_type": "execute_result",
          "data": {
            "text/plain": [
              "array([1.+0.j, 2.+0.j, 3.+0.j])"
            ]
          },
          "metadata": {
            "tags": []
          },
          "execution_count": 3
        }
      ]
    },
    {
      "cell_type": "code",
      "metadata": {
        "id": "cRcF91gpFJzH",
        "colab_type": "code",
        "colab": {},
        "outputId": "307b65b9-7e4a-4029-a464-381811cb61ce"
      },
      "source": [
        "data1 = [6, 7.5, 8, 0, 1]\n",
        "\n",
        "np.array(data1)\n",
        "\n",
        "data2 = [[1, 2, 3, 4], [5, 6, 7, 8]]\n",
        "np.array(data2)"
      ],
      "execution_count": 0,
      "outputs": [
        {
          "output_type": "execute_result",
          "data": {
            "text/plain": [
              "array([[1, 2, 3, 4],\n",
              "       [5, 6, 7, 8]])"
            ]
          },
          "metadata": {
            "tags": []
          },
          "execution_count": 39
        }
      ]
    },
    {
      "cell_type": "code",
      "metadata": {
        "id": "pLK3DnxrFJzK",
        "colab_type": "code",
        "colab": {},
        "outputId": "e65fdae1-0bb9-4c69-e426-efb27f3b8bfb"
      },
      "source": [
        "#看資料(ndarray)有多少維\n",
        "#記得要是ndarray的型態才可以用哦\n",
        "\n",
        "arr2 = np.array(data2)\n",
        "arr2.ndim"
      ],
      "execution_count": 0,
      "outputs": [
        {
          "output_type": "execute_result",
          "data": {
            "text/plain": [
              "2"
            ]
          },
          "metadata": {
            "tags": []
          },
          "execution_count": 22
        }
      ]
    },
    {
      "cell_type": "code",
      "metadata": {
        "id": "GHDrEKcnFJzN",
        "colab_type": "code",
        "colab": {},
        "outputId": "2c7c645c-0f41-42a3-975d-7ee3197c1162"
      },
      "source": [
        "#看是幾乘幾的矩陣可以使用shape\n",
        "\n",
        "arr2.shape"
      ],
      "execution_count": 0,
      "outputs": [
        {
          "output_type": "execute_result",
          "data": {
            "text/plain": [
              "(2, 4)"
            ]
          },
          "metadata": {
            "tags": []
          },
          "execution_count": 23
        }
      ]
    },
    {
      "cell_type": "code",
      "metadata": {
        "id": "6EMY--ijFJzP",
        "colab_type": "code",
        "colab": {},
        "outputId": "c7f5c550-4453-4198-ecd5-07ef00efa78f"
      },
      "source": [
        "#它和pandas相同也可以看資料類型\n",
        "\n",
        "data.dtype"
      ],
      "execution_count": 0,
      "outputs": [
        {
          "output_type": "execute_result",
          "data": {
            "text/plain": [
              "dtype('complex128')"
            ]
          },
          "metadata": {
            "tags": []
          },
          "execution_count": 24
        }
      ]
    },
    {
      "cell_type": "code",
      "metadata": {
        "id": "FcAJJ8lMFJzS",
        "colab_type": "code",
        "colab": {},
        "outputId": "67237b18-ce64-468d-e728-21c03f39545d"
      },
      "source": [
        "#Creat data\n",
        "\n",
        "arr = np.arange(10)\n",
        "arr"
      ],
      "execution_count": 0,
      "outputs": [
        {
          "output_type": "execute_result",
          "data": {
            "text/plain": [
              "array([0, 1, 2, 3, 4, 5, 6, 7, 8, 9])"
            ]
          },
          "metadata": {
            "tags": []
          },
          "execution_count": 37
        }
      ]
    },
    {
      "cell_type": "code",
      "metadata": {
        "id": "69q4ploVFJzV",
        "colab_type": "code",
        "colab": {},
        "outputId": "ff7a263b-dcb9-4afe-c34c-8a28857ce0ad"
      },
      "source": [
        "#Indexing\n",
        "\n",
        "arr[5]"
      ],
      "execution_count": 0,
      "outputs": [
        {
          "output_type": "execute_result",
          "data": {
            "text/plain": [
              "5"
            ]
          },
          "metadata": {
            "tags": []
          },
          "execution_count": 30
        }
      ]
    },
    {
      "cell_type": "code",
      "metadata": {
        "id": "KKALU_vLFJzZ",
        "colab_type": "code",
        "colab": {},
        "outputId": "0958934d-bc6c-49c1-d680-6dad0a1c4d83"
      },
      "source": [
        "arr[5:8]"
      ],
      "execution_count": 0,
      "outputs": [
        {
          "output_type": "execute_result",
          "data": {
            "text/plain": [
              "array([5, 6, 7])"
            ]
          },
          "metadata": {
            "tags": []
          },
          "execution_count": 31
        }
      ]
    },
    {
      "cell_type": "code",
      "metadata": {
        "id": "Ne91J35RFJzc",
        "colab_type": "code",
        "colab": {},
        "outputId": "cf710f47-a1d6-4662-d0df-b41e4f6bd0ca"
      },
      "source": [
        "#改變索引內的資料\n",
        "\n",
        "arr[5:9] = 7\n",
        "arr"
      ],
      "execution_count": 0,
      "outputs": [
        {
          "output_type": "execute_result",
          "data": {
            "text/plain": [
              "array([0, 1, 2, 3, 4, 7, 7, 7, 7, 9])"
            ]
          },
          "metadata": {
            "tags": []
          },
          "execution_count": 36
        }
      ]
    },
    {
      "cell_type": "code",
      "metadata": {
        "id": "SWYbpgYWFJzf",
        "colab_type": "code",
        "colab": {},
        "outputId": "1d588f34-d73b-4d0e-ce5c-6f4b1a8f7b8e"
      },
      "source": [
        "#Slicing 只改變局部的資料，這就是所謂的Slicing\n",
        "\n",
        "myarr = np.arange(10)\n",
        "slice = myarr[5:8]\n",
        "myarr[5:8] = 7\n",
        "slice[1] = 87\n",
        "myarr"
      ],
      "execution_count": 0,
      "outputs": [
        {
          "output_type": "execute_result",
          "data": {
            "text/plain": [
              "array([ 0,  1,  2,  3,  4,  7, 87,  7,  8,  9])"
            ]
          },
          "metadata": {
            "tags": []
          },
          "execution_count": 35
        }
      ]
    }
  ]
}