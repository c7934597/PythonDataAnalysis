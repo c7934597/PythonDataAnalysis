{
 "cells": [
  {
   "cell_type": "code",
   "execution_count": 2,
   "metadata": {},
   "outputs": [],
   "source": [
    "from bokeh.plotting import figure, show\n",
    "\n",
    "#Scatter plot\n",
    "\n",
    "#定義繪圖板寬高\n",
    "p = figure(plot_width=500, plot_height=500)\n",
    "\n",
    "#定義資料\n",
    "x = [1,2,3,4,5,6,7,8,9,10,11]\n",
    "y = [6,3,7,2,4,6,1,2,3,5,6]\n",
    "\n",
    "#資料放到圖上並顯示\n",
    "p.circle(x, y, size=20, color=\"gray\", alpha=0.6)\n",
    "show(p)"
   ]
  },
  {
   "cell_type": "code",
   "execution_count": 3,
   "metadata": {},
   "outputs": [],
   "source": [
    "#Single Lines\n",
    "\n",
    "p = figure(plot_width=500, plot_height=500)\n",
    "\n",
    "x = [1,2,3,4,5,6,7,8,9,10,11]\n",
    "y = [6,3,4,2,5,2,5,1,3,5,4]\n",
    "\n",
    "#唯一的差別是line()\n",
    "p.line(x, y, line_width=3)\n",
    "show(p)"
   ]
  },
  {
   "cell_type": "code",
   "execution_count": 4,
   "metadata": {},
   "outputs": [],
   "source": [
    "#Multiple Lines\n",
    "\n",
    "p = figure(plot_width=500, plot_height=500)\n",
    "\n",
    "x1 = [1, 2, 3]\n",
    "x2 = [2, 3, 4, 5, 6]\n",
    "y1 = [3, 2, 5]\n",
    "y2 = [3, 2, 4, 1, 3]\n",
    "\n",
    "#使用multi_line()\n",
    "p.multi_line([x1,x2] , [y1, y2], color=[\"firebrick\", \"navy\"], alpha=[0.8, 0.3], line_width=5)\n",
    "show(p)"
   ]
  },
  {
   "cell_type": "code",
   "execution_count": 6,
   "metadata": {},
   "outputs": [],
   "source": [
    "#Bars 使用vbar\n",
    "\n",
    "p = figure(plot_width=500, plot_height=500)\n",
    "p.vbar(x=[1, 2, 3, 4], width=0.5, bottom=0,\n",
    "       top=[1.2, 2.5, 3.7, 2.9], color=\"black\",alpha=0.4)\n",
    "show(p)"
   ]
  },
  {
   "cell_type": "code",
   "execution_count": 7,
   "metadata": {},
   "outputs": [],
   "source": [
    "#Multiple Patches 使用patches\n",
    "\n",
    "p = figure(plot_width=500, plot_height=500)\n",
    "x1 = [1, 4, 5, 2]\n",
    "x2 = [3, 4, 5, 6]\n",
    "x3 = [1,3,2]\n",
    "y1 = [2, 3, 5, 6]\n",
    "y2 = [4, 7, 7, 5]\n",
    "y3 = [7,8,5.5]\n",
    "p.patches([x1,x2,x3 ], [y1,y2,y3],\n",
    "          color=[\"black\", \"navy\",\"firebrick\"], alpha=[0.2, 0.2,0.3], line_width=2)\n",
    "\n",
    "show(p)"
   ]
  }
 ],
 "metadata": {
  "kernelspec": {
   "display_name": "Python 3",
   "language": "python",
   "name": "python3"
  },
  "language_info": {
   "codemirror_mode": {
    "name": "ipython",
    "version": 3
   },
   "file_extension": ".py",
   "mimetype": "text/x-python",
   "name": "python",
   "nbconvert_exporter": "python",
   "pygments_lexer": "ipython3",
   "version": "3.7.0"
  }
 },
 "nbformat": 4,
 "nbformat_minor": 2
}
